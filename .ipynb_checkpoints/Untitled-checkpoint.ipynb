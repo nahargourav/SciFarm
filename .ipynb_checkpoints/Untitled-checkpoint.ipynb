{
 "cells": [
  {
   "cell_type": "code",
   "execution_count": 1,
   "id": "1b265035-5ec0-4713-876e-4e600cc3426f",
   "metadata": {},
   "outputs": [],
   "source": [
    "import numpy as np\n",
    "import pandas as pd"
   ]
  },
  {
   "cell_type": "code",
   "execution_count": 2,
   "id": "8aa3c194-60e0-4723-8ae6-fb428270b5c2",
   "metadata": {},
   "outputs": [
    {
     "data": {
      "text/html": [
       "<div>\n",
       "<style scoped>\n",
       "    .dataframe tbody tr th:only-of-type {\n",
       "        vertical-align: middle;\n",
       "    }\n",
       "\n",
       "    .dataframe tbody tr th {\n",
       "        vertical-align: top;\n",
       "    }\n",
       "\n",
       "    .dataframe thead th {\n",
       "        text-align: right;\n",
       "    }\n",
       "</style>\n",
       "<table border=\"1\" class=\"dataframe\">\n",
       "  <thead>\n",
       "    <tr style=\"text-align: right;\">\n",
       "      <th></th>\n",
       "      <th>N</th>\n",
       "      <th>P</th>\n",
       "      <th>K</th>\n",
       "      <th>temperature</th>\n",
       "      <th>humidity</th>\n",
       "      <th>ph</th>\n",
       "      <th>rainfall</th>\n",
       "      <th>label</th>\n",
       "    </tr>\n",
       "  </thead>\n",
       "  <tbody>\n",
       "    <tr>\n",
       "      <th>0</th>\n",
       "      <td>90</td>\n",
       "      <td>42</td>\n",
       "      <td>43</td>\n",
       "      <td>20.879744</td>\n",
       "      <td>82.002744</td>\n",
       "      <td>6.502985</td>\n",
       "      <td>202.935536</td>\n",
       "      <td>rice</td>\n",
       "    </tr>\n",
       "    <tr>\n",
       "      <th>1</th>\n",
       "      <td>85</td>\n",
       "      <td>58</td>\n",
       "      <td>41</td>\n",
       "      <td>21.770462</td>\n",
       "      <td>80.319644</td>\n",
       "      <td>7.038096</td>\n",
       "      <td>226.655537</td>\n",
       "      <td>rice</td>\n",
       "    </tr>\n",
       "    <tr>\n",
       "      <th>2</th>\n",
       "      <td>60</td>\n",
       "      <td>55</td>\n",
       "      <td>44</td>\n",
       "      <td>23.004459</td>\n",
       "      <td>82.320763</td>\n",
       "      <td>7.840207</td>\n",
       "      <td>263.964248</td>\n",
       "      <td>rice</td>\n",
       "    </tr>\n",
       "    <tr>\n",
       "      <th>3</th>\n",
       "      <td>74</td>\n",
       "      <td>35</td>\n",
       "      <td>40</td>\n",
       "      <td>26.491096</td>\n",
       "      <td>80.158363</td>\n",
       "      <td>6.980401</td>\n",
       "      <td>242.864034</td>\n",
       "      <td>rice</td>\n",
       "    </tr>\n",
       "    <tr>\n",
       "      <th>4</th>\n",
       "      <td>78</td>\n",
       "      <td>42</td>\n",
       "      <td>42</td>\n",
       "      <td>20.130175</td>\n",
       "      <td>81.604873</td>\n",
       "      <td>7.628473</td>\n",
       "      <td>262.717340</td>\n",
       "      <td>rice</td>\n",
       "    </tr>\n",
       "  </tbody>\n",
       "</table>\n",
       "</div>"
      ],
      "text/plain": [
       "    N   P   K  temperature   humidity        ph    rainfall label\n",
       "0  90  42  43    20.879744  82.002744  6.502985  202.935536  rice\n",
       "1  85  58  41    21.770462  80.319644  7.038096  226.655537  rice\n",
       "2  60  55  44    23.004459  82.320763  7.840207  263.964248  rice\n",
       "3  74  35  40    26.491096  80.158363  6.980401  242.864034  rice\n",
       "4  78  42  42    20.130175  81.604873  7.628473  262.717340  rice"
      ]
     },
     "execution_count": 2,
     "metadata": {},
     "output_type": "execute_result"
    }
   ],
   "source": [
    "crop = pd.read_csv(\"Crop_recommendation.csv\")\n",
    "crop.head()"
   ]
  },
  {
   "cell_type": "code",
   "execution_count": 3,
   "id": "abcf5c78-ec91-43d3-94b0-ae7f1a4f9f90",
   "metadata": {},
   "outputs": [
    {
     "name": "stdout",
     "output_type": "stream",
     "text": [
      "                    N         P         K  temperature  humidity        ph  \\\n",
      "N            1.000000 -0.231460 -0.140512     0.026504  0.190688  0.096683   \n",
      "P           -0.231460  1.000000  0.736232    -0.127541 -0.118734 -0.138019   \n",
      "K           -0.140512  0.736232  1.000000    -0.160387  0.190859 -0.169503   \n",
      "temperature  0.026504 -0.127541 -0.160387     1.000000  0.205320 -0.017795   \n",
      "humidity     0.190688 -0.118734  0.190859     0.205320  1.000000 -0.008483   \n",
      "ph           0.096683 -0.138019 -0.169503    -0.017795 -0.008483  1.000000   \n",
      "rainfall     0.059020 -0.063839 -0.053461    -0.030084  0.094423 -0.109069   \n",
      "\n",
      "             rainfall  \n",
      "N            0.059020  \n",
      "P           -0.063839  \n",
      "K           -0.053461  \n",
      "temperature -0.030084  \n",
      "humidity     0.094423  \n",
      "ph          -0.109069  \n",
      "rainfall     1.000000  \n"
     ]
    }
   ],
   "source": [
    "numeric_crop = crop.select_dtypes(include=['number'])\n",
    "corr = numeric_crop.corr()\n",
    "print(corr)"
   ]
  },
  {
   "cell_type": "code",
   "execution_count": 4,
   "id": "3fd3be8d-9b72-40d2-b060-d6b79306f1cb",
   "metadata": {},
   "outputs": [
    {
     "data": {
      "text/plain": [
       "(2200, 8)"
      ]
     },
     "execution_count": 4,
     "metadata": {},
     "output_type": "execute_result"
    }
   ],
   "source": [
    "crop.shape"
   ]
  },
  {
   "cell_type": "code",
   "execution_count": 5,
   "id": "9c359a23-2c7b-4bba-9fed-64be7d1131a5",
   "metadata": {},
   "outputs": [
    {
     "name": "stdout",
     "output_type": "stream",
     "text": [
      "<class 'pandas.core.frame.DataFrame'>\n",
      "RangeIndex: 2200 entries, 0 to 2199\n",
      "Data columns (total 8 columns):\n",
      " #   Column       Non-Null Count  Dtype  \n",
      "---  ------       --------------  -----  \n",
      " 0   N            2200 non-null   int64  \n",
      " 1   P            2200 non-null   int64  \n",
      " 2   K            2200 non-null   int64  \n",
      " 3   temperature  2200 non-null   float64\n",
      " 4   humidity     2200 non-null   float64\n",
      " 5   ph           2200 non-null   float64\n",
      " 6   rainfall     2200 non-null   float64\n",
      " 7   label        2200 non-null   object \n",
      "dtypes: float64(4), int64(3), object(1)\n",
      "memory usage: 137.6+ KB\n"
     ]
    }
   ],
   "source": [
    "crop.info()"
   ]
  },
  {
   "cell_type": "code",
   "execution_count": 6,
   "id": "1f31c151-2637-4eb7-a0ed-235a005d46e4",
   "metadata": {},
   "outputs": [
    {
     "data": {
      "text/plain": [
       "N              0\n",
       "P              0\n",
       "K              0\n",
       "temperature    0\n",
       "humidity       0\n",
       "ph             0\n",
       "rainfall       0\n",
       "label          0\n",
       "dtype: int64"
      ]
     },
     "execution_count": 6,
     "metadata": {},
     "output_type": "execute_result"
    }
   ],
   "source": [
    "crop.isnull().sum()"
   ]
  },
  {
   "cell_type": "code",
   "execution_count": 7,
   "id": "93e324c0-a331-40f0-8ceb-13462d1462c3",
   "metadata": {},
   "outputs": [
    {
     "data": {
      "text/plain": [
       "np.int64(0)"
      ]
     },
     "execution_count": 7,
     "metadata": {},
     "output_type": "execute_result"
    }
   ],
   "source": [
    "crop.duplicated().sum()"
   ]
  },
  {
   "cell_type": "code",
   "execution_count": 8,
   "id": "6b986744-bab2-42ae-8dcf-84c67a1d028a",
   "metadata": {},
   "outputs": [
    {
     "data": {
      "text/html": [
       "<div>\n",
       "<style scoped>\n",
       "    .dataframe tbody tr th:only-of-type {\n",
       "        vertical-align: middle;\n",
       "    }\n",
       "\n",
       "    .dataframe tbody tr th {\n",
       "        vertical-align: top;\n",
       "    }\n",
       "\n",
       "    .dataframe thead th {\n",
       "        text-align: right;\n",
       "    }\n",
       "</style>\n",
       "<table border=\"1\" class=\"dataframe\">\n",
       "  <thead>\n",
       "    <tr style=\"text-align: right;\">\n",
       "      <th></th>\n",
       "      <th>N</th>\n",
       "      <th>P</th>\n",
       "      <th>K</th>\n",
       "      <th>temperature</th>\n",
       "      <th>humidity</th>\n",
       "      <th>ph</th>\n",
       "      <th>rainfall</th>\n",
       "    </tr>\n",
       "  </thead>\n",
       "  <tbody>\n",
       "    <tr>\n",
       "      <th>count</th>\n",
       "      <td>2200.000000</td>\n",
       "      <td>2200.000000</td>\n",
       "      <td>2200.000000</td>\n",
       "      <td>2200.000000</td>\n",
       "      <td>2200.000000</td>\n",
       "      <td>2200.000000</td>\n",
       "      <td>2200.000000</td>\n",
       "    </tr>\n",
       "    <tr>\n",
       "      <th>mean</th>\n",
       "      <td>50.551818</td>\n",
       "      <td>53.362727</td>\n",
       "      <td>48.149091</td>\n",
       "      <td>25.616244</td>\n",
       "      <td>71.481779</td>\n",
       "      <td>6.469480</td>\n",
       "      <td>103.463655</td>\n",
       "    </tr>\n",
       "    <tr>\n",
       "      <th>std</th>\n",
       "      <td>36.917334</td>\n",
       "      <td>32.985883</td>\n",
       "      <td>50.647931</td>\n",
       "      <td>5.063749</td>\n",
       "      <td>22.263812</td>\n",
       "      <td>0.773938</td>\n",
       "      <td>54.958389</td>\n",
       "    </tr>\n",
       "    <tr>\n",
       "      <th>min</th>\n",
       "      <td>0.000000</td>\n",
       "      <td>5.000000</td>\n",
       "      <td>5.000000</td>\n",
       "      <td>8.825675</td>\n",
       "      <td>14.258040</td>\n",
       "      <td>3.504752</td>\n",
       "      <td>20.211267</td>\n",
       "    </tr>\n",
       "    <tr>\n",
       "      <th>25%</th>\n",
       "      <td>21.000000</td>\n",
       "      <td>28.000000</td>\n",
       "      <td>20.000000</td>\n",
       "      <td>22.769375</td>\n",
       "      <td>60.261953</td>\n",
       "      <td>5.971693</td>\n",
       "      <td>64.551686</td>\n",
       "    </tr>\n",
       "    <tr>\n",
       "      <th>50%</th>\n",
       "      <td>37.000000</td>\n",
       "      <td>51.000000</td>\n",
       "      <td>32.000000</td>\n",
       "      <td>25.598693</td>\n",
       "      <td>80.473146</td>\n",
       "      <td>6.425045</td>\n",
       "      <td>94.867624</td>\n",
       "    </tr>\n",
       "    <tr>\n",
       "      <th>75%</th>\n",
       "      <td>84.250000</td>\n",
       "      <td>68.000000</td>\n",
       "      <td>49.000000</td>\n",
       "      <td>28.561654</td>\n",
       "      <td>89.948771</td>\n",
       "      <td>6.923643</td>\n",
       "      <td>124.267508</td>\n",
       "    </tr>\n",
       "    <tr>\n",
       "      <th>max</th>\n",
       "      <td>140.000000</td>\n",
       "      <td>145.000000</td>\n",
       "      <td>205.000000</td>\n",
       "      <td>43.675493</td>\n",
       "      <td>99.981876</td>\n",
       "      <td>9.935091</td>\n",
       "      <td>298.560117</td>\n",
       "    </tr>\n",
       "  </tbody>\n",
       "</table>\n",
       "</div>"
      ],
      "text/plain": [
       "                 N            P            K  temperature     humidity  \\\n",
       "count  2200.000000  2200.000000  2200.000000  2200.000000  2200.000000   \n",
       "mean     50.551818    53.362727    48.149091    25.616244    71.481779   \n",
       "std      36.917334    32.985883    50.647931     5.063749    22.263812   \n",
       "min       0.000000     5.000000     5.000000     8.825675    14.258040   \n",
       "25%      21.000000    28.000000    20.000000    22.769375    60.261953   \n",
       "50%      37.000000    51.000000    32.000000    25.598693    80.473146   \n",
       "75%      84.250000    68.000000    49.000000    28.561654    89.948771   \n",
       "max     140.000000   145.000000   205.000000    43.675493    99.981876   \n",
       "\n",
       "                ph     rainfall  \n",
       "count  2200.000000  2200.000000  \n",
       "mean      6.469480   103.463655  \n",
       "std       0.773938    54.958389  \n",
       "min       3.504752    20.211267  \n",
       "25%       5.971693    64.551686  \n",
       "50%       6.425045    94.867624  \n",
       "75%       6.923643   124.267508  \n",
       "max       9.935091   298.560117  "
      ]
     },
     "execution_count": 8,
     "metadata": {},
     "output_type": "execute_result"
    }
   ],
   "source": [
    "crop.describe()"
   ]
  },
  {
   "cell_type": "code",
   "execution_count": 9,
   "id": "f8b238d8-ed08-454b-ab4b-00834a72ad89",
   "metadata": {},
   "outputs": [
    {
     "name": "stdout",
     "output_type": "stream",
     "text": [
      "                    N         P         K  temperature  humidity        ph  \\\n",
      "N            1.000000 -0.231460 -0.140512     0.026504  0.190688  0.096683   \n",
      "P           -0.231460  1.000000  0.736232    -0.127541 -0.118734 -0.138019   \n",
      "K           -0.140512  0.736232  1.000000    -0.160387  0.190859 -0.169503   \n",
      "temperature  0.026504 -0.127541 -0.160387     1.000000  0.205320 -0.017795   \n",
      "humidity     0.190688 -0.118734  0.190859     0.205320  1.000000 -0.008483   \n",
      "ph           0.096683 -0.138019 -0.169503    -0.017795 -0.008483  1.000000   \n",
      "rainfall     0.059020 -0.063839 -0.053461    -0.030084  0.094423 -0.109069   \n",
      "\n",
      "             rainfall  \n",
      "N            0.059020  \n",
      "P           -0.063839  \n",
      "K           -0.053461  \n",
      "temperature -0.030084  \n",
      "humidity     0.094423  \n",
      "ph          -0.109069  \n",
      "rainfall     1.000000  \n"
     ]
    }
   ],
   "source": [
    "corr = numeric_crop.corr()\n",
    "print(corr)"
   ]
  },
  {
   "cell_type": "code",
   "execution_count": 11,
   "id": "6ad44cff-9882-4781-ab09-38432cf22909",
   "metadata": {},
   "outputs": [
    {
     "data": {
      "text/plain": [
       "<Axes: >"
      ]
     },
     "execution_count": 11,
     "metadata": {},
     "output_type": "execute_result"
    },
    {
     "data": {
      "image/png": "[encoded data removed]",
      "text/plain": [
       "<Figure size 640x480 with 2 Axes>"
      ]
     },
     "metadata": {},
     "output_type": "display_data"
    }
   ],
   "source": [
    "import seaborn as sns\n",
    "sns.heatmap(corr,annot=True,cbar=True,cmap='coolwarm')"
   ]
  },
  {
   "cell_type": "code",
   "execution_count": 13,
   "id": "fed6bdd7-9d63-4552-ba0d-1042e219945b",
   "metadata": {},
   "outputs": [
    {
     "data": {
      "text/plain": [
       "label\n",
       "rice           100\n",
       "maize          100\n",
       "chickpea       100\n",
       "kidneybeans    100\n",
       "pigeonpeas     100\n",
       "mothbeans      100\n",
       "mungbean       100\n",
       "blackgram      100\n",
       "lentil         100\n",
       "pomegranate    100\n",
       "banana         100\n",
       "mango          100\n",
       "grapes         100\n",
       "watermelon     100\n",
       "muskmelon      100\n",
       "apple          100\n",
       "orange         100\n",
       "papaya         100\n",
       "coconut        100\n",
       "cotton         100\n",
       "jute           100\n",
       "coffee         100\n",
       "Name: count, dtype: int64"
      ]
     },
     "execution_count": 13,
     "metadata": {},
     "output_type": "execute_result"
    }
   ],
   "source": [
    "crop['label'].value_counts()"
   ]
  },
  {
   "cell_type": "code",
   "execution_count": 15,
   "id": "0b4c8f3d-e5e6-4a51-9caf-4b4cb7c53a2a",
   "metadata": {},
   "outputs": [
    {
     "data": {
      "image/png": "[encoded data removed]",
      "text/plain": [
       "<Figure size 500x500 with 1 Axes>"
      ]
     },
     "metadata": {},
     "output_type": "display_data"
    }
   ],
   "source": [
    "import matplotlib.pyplot as plt\n",
    "sns.displot(crop['N'])\n",
    "plt.show()"
   ]
  },
  {
   "cell_type": "code",
   "execution_count": 17,
   "id": "3b3f6f49-4bd6-4364-ae20-cfc2bdb25ff9",
   "metadata": {},
   "outputs": [],
   "source": [
    "crop_dict = {\n",
    "    'rice': 1,\n",
    "    'maize': 2,\n",
    "    'jute': 3,\n",
    "    'cotton': 4,\n",
    "    'coconut': 5,\n",
    "    'papaya': 6,\n",
    "    'orange': 7,\n",
    "    'apple': 8,\n",
    "    'muskmelon': 9,\n",
    "    'watermelon': 10,\n",
    "    'grapes': 11,\n",
    "    'mango': 12,\n",
    "    'banana': 13,\n",
    "    'pomegranate': 14,\n",
    "    'lentil': 15,\n",
    "    'blackgram': 16,\n",
    "    'mungbean': 17,\n",
    "    'mothbeans': 18,\n",
    "    'pigeonpeas': 19,\n",
    "    'kidneybeans': 20,\n",
    "    'chickpea': 21,\n",
    "    'coffee': 22\n",
    "}\n",
    "crop['crop_num']=  crop['label'].map(crop_dict)"
   ]
  },
  {
   "cell_type": "code",
   "execution_count": 18,
   "id": "a58f2e78-0cb3-4544-b2d4-cddea46f73a4",
   "metadata": {},
   "outputs": [
    {
     "data": {
      "text/plain": [
       "crop_num\n",
       "1     100\n",
       "2     100\n",
       "21    100\n",
       "20    100\n",
       "19    100\n",
       "18    100\n",
       "17    100\n",
       "16    100\n",
       "15    100\n",
       "14    100\n",
       "13    100\n",
       "12    100\n",
       "11    100\n",
       "10    100\n",
       "9     100\n",
       "8     100\n",
       "7     100\n",
       "6     100\n",
       "5     100\n",
       "4     100\n",
       "3     100\n",
       "22    100\n",
       "Name: count, dtype: int64"
      ]
     },
     "execution_count": 18,
     "metadata": {},
     "output_type": "execute_result"
    }
   ],
   "source": [
    "crop['crop_num'].value_counts()"
   ]
  },
  {
   "cell_type": "code",
   "execution_count": 19,
   "id": "d7fd844a-97c9-4f9a-a1ca-d350806bac3c",
   "metadata": {},
   "outputs": [
    {
     "data": {
      "text/html": [
       "<div>\n",
       "<style scoped>\n",
       "    .dataframe tbody tr th:only-of-type {\n",
       "        vertical-align: middle;\n",
       "    }\n",
       "\n",
       "    .dataframe tbody tr th {\n",
       "        vertical-align: top;\n",
       "    }\n",
       "\n",
       "    .dataframe thead th {\n",
       "        text-align: right;\n",
       "    }\n",
       "</style>\n",
       "<table border=\"1\" class=\"dataframe\">\n",
       "  <thead>\n",
       "    <tr style=\"text-align: right;\">\n",
       "      <th></th>\n",
       "      <th>N</th>\n",
       "      <th>P</th>\n",
       "      <th>K</th>\n",
       "      <th>temperature</th>\n",
       "      <th>humidity</th>\n",
       "      <th>ph</th>\n",
       "      <th>rainfall</th>\n",
       "      <th>crop_num</th>\n",
       "    </tr>\n",
       "  </thead>\n",
       "  <tbody>\n",
       "    <tr>\n",
       "      <th>0</th>\n",
       "      <td>90</td>\n",
       "      <td>42</td>\n",
       "      <td>43</td>\n",
       "      <td>20.879744</td>\n",
       "      <td>82.002744</td>\n",
       "      <td>6.502985</td>\n",
       "      <td>202.935536</td>\n",
       "      <td>1</td>\n",
       "    </tr>\n",
       "    <tr>\n",
       "      <th>1</th>\n",
       "      <td>85</td>\n",
       "      <td>58</td>\n",
       "      <td>41</td>\n",
       "      <td>21.770462</td>\n",
       "      <td>80.319644</td>\n",
       "      <td>7.038096</td>\n",
       "      <td>226.655537</td>\n",
       "      <td>1</td>\n",
       "    </tr>\n",
       "    <tr>\n",
       "      <th>2</th>\n",
       "      <td>60</td>\n",
       "      <td>55</td>\n",
       "      <td>44</td>\n",
       "      <td>23.004459</td>\n",
       "      <td>82.320763</td>\n",
       "      <td>7.840207</td>\n",
       "      <td>263.964248</td>\n",
       "      <td>1</td>\n",
       "    </tr>\n",
       "    <tr>\n",
       "      <th>3</th>\n",
       "      <td>74</td>\n",
       "      <td>35</td>\n",
       "      <td>40</td>\n",
       "      <td>26.491096</td>\n",
       "      <td>80.158363</td>\n",
       "      <td>6.980401</td>\n",
       "      <td>242.864034</td>\n",
       "      <td>1</td>\n",
       "    </tr>\n",
       "    <tr>\n",
       "      <th>4</th>\n",
       "      <td>78</td>\n",
       "      <td>42</td>\n",
       "      <td>42</td>\n",
       "      <td>20.130175</td>\n",
       "      <td>81.604873</td>\n",
       "      <td>7.628473</td>\n",
       "      <td>262.717340</td>\n",
       "      <td>1</td>\n",
       "    </tr>\n",
       "  </tbody>\n",
       "</table>\n",
       "</div>"
      ],
      "text/plain": [
       "    N   P   K  temperature   humidity        ph    rainfall  crop_num\n",
       "0  90  42  43    20.879744  82.002744  6.502985  202.935536         1\n",
       "1  85  58  41    21.770462  80.319644  7.038096  226.655537         1\n",
       "2  60  55  44    23.004459  82.320763  7.840207  263.964248         1\n",
       "3  74  35  40    26.491096  80.158363  6.980401  242.864034         1\n",
       "4  78  42  42    20.130175  81.604873  7.628473  262.717340         1"
      ]
     },
     "execution_count": 19,
     "metadata": {},
     "output_type": "execute_result"
    }
   ],
   "source": [
    "crop.drop(['label'],axis=1,inplace=True)\n",
    "crop.head()"
   ]
  },
  {
   "cell_type": "code",
   "execution_count": 20,
   "id": "b578c9e8-e113-4bb7-a9a2-e84f5f3b8e37",
   "metadata": {},
   "outputs": [],
   "source": [
    "X = crop.drop(['crop_num'],axis=1)\n",
    "y = crop['crop_num']"
   ]
  },
  {
   "cell_type": "code",
   "execution_count": 22,
   "id": "250f0a26-73d8-427c-913a-0f637e2e1c77",
   "metadata": {},
   "outputs": [
    {
     "data": {
      "text/plain": [
       "(2200, 7)"
      ]
     },
     "execution_count": 22,
     "metadata": {},
     "output_type": "execute_result"
    }
   ],
   "source": [
    "X.shape"
   ]
  },
  {
   "cell_type": "code",
   "execution_count": 23,
   "id": "ac795459-2a26-4f9b-a6ef-8d485900a2e5",
   "metadata": {},
   "outputs": [
    {
     "data": {
      "text/plain": [
       "(2200,)"
      ]
     },
     "execution_count": 23,
     "metadata": {},
     "output_type": "execute_result"
    }
   ],
   "source": [
    "y.shape"
   ]
  },
  {
   "cell_type": "code",
   "execution_count": 29,
   "id": "b3e06d0d-bcc8-44fd-bad7-d650af172908",
   "metadata": {},
   "outputs": [],
   "source": [
    "from sklearn.model_selection import train_test_split"
   ]
  },
  {
   "cell_type": "code",
   "execution_count": 30,
   "id": "2afd0aae-797d-4fb4-821d-947a14582c7f",
   "metadata": {},
   "outputs": [],
   "source": [
    "X_train, X_test, y_train, y_test = train_test_split(X, y, test_size=0.2, random_state=42)"
   ]
  },
  {
   "cell_type": "code",
   "execution_count": 31,
   "id": "df163339-4d27-46d7-93ff-a6a42eeb4336",
   "metadata": {},
   "outputs": [
    {
     "data": {
      "text/plain": [
       "(1760, 7)"
      ]
     },
     "execution_count": 31,
     "metadata": {},
     "output_type": "execute_result"
    }
   ],
   "source": [
    "X_train.shape"
   ]
  },
  {
   "cell_type": "code",
   "execution_count": 32,
   "id": "478b6c0b-c84f-40ff-8a89-d1060e3a78a0",
   "metadata": {},
   "outputs": [
    {
     "data": {
      "text/plain": [
       "(440, 7)"
      ]
     },
     "execution_count": 32,
     "metadata": {},
     "output_type": "execute_result"
    }
   ],
   "source": [
    "X_test.shape"
   ]
  },
  {
   "cell_type": "code",
   "execution_count": 36,
   "id": "355e12fb-4f62-4f69-b3f5-fd4c15078664",
   "metadata": {},
   "outputs": [],
   "source": [
    "from sklearn.preprocessing import MinMaxScaler\n",
    "ms = MinMaxScaler()\n",
    "\n",
    "ms.fit(X_train)\n",
    "X_train = ms.transform(X_train)\n",
    "X_test = ms.transform(X_test)"
   ]
  },
  {
   "cell_type": "code",
   "execution_count": 37,
   "id": "cdd41cea-e4db-45a7-b5c6-a4523e4795a3",
   "metadata": {},
   "outputs": [
    {
     "data": {
      "text/plain": [
       "array([[0.12142857, 0.07857143, 0.045     , ..., 0.9089898 , 0.48532225,\n",
       "        0.29685161],\n",
       "       [0.26428571, 0.52857143, 0.07      , ..., 0.64257946, 0.56594073,\n",
       "        0.17630752],\n",
       "       [0.05      , 0.48571429, 0.1       , ..., 0.57005802, 0.58835229,\n",
       "        0.08931844],\n",
       "       ...,\n",
       "       [0.07857143, 0.22142857, 0.13      , ..., 0.43760347, 0.46198144,\n",
       "        0.28719815],\n",
       "       [0.07857143, 0.85      , 0.995     , ..., 0.76763665, 0.44420505,\n",
       "        0.18346657],\n",
       "       [0.22857143, 0.52142857, 0.085     , ..., 0.56099735, 0.54465022,\n",
       "        0.11879596]], shape=(1760, 7))"
      ]
     },
     "execution_count": 37,
     "metadata": {},
     "output_type": "execute_result"
    }
   ],
   "source": [
    "X_train"
   ]
  },
  {
   "cell_type": "code",
   "execution_count": 39,
   "id": "26f1d398-8277-4107-ac8b-928e5671daad",
   "metadata": {},
   "outputs": [],
   "source": [
    "from sklearn.preprocessing import StandardScaler\n",
    "sc = StandardScaler()\n",
    "\n",
    "sc.fit(X_train)\n",
    "X_train = sc.transform(X_train)\n",
    "X_test = sc.transform(X_test)"
   ]
  },
  {
   "cell_type": "code",
   "execution_count": 40,
   "id": "12b2b1e9-57ca-4fb0-802d-303280ecffe9",
   "metadata": {},
   "outputs": [
    {
     "data": {
      "text/plain": [
       "array([[-9.03426596e-01, -1.12616170e+00, -6.68506601e-01, ...,\n",
       "         9.36586183e-01,  1.93473784e-01,  5.14970176e-03],\n",
       "       [-3.67051340e-01,  7.70358846e-01, -5.70589522e-01, ...,\n",
       "        -1.00470485e-01,  8.63917548e-01, -6.05290566e-01],\n",
       "       [-1.17161422e+00,  5.89737842e-01, -4.53089028e-01, ...,\n",
       "        -3.82774991e-01,  1.05029771e+00, -1.04580687e+00],\n",
       "       ...,\n",
       "       [-1.06433917e+00, -5.24091685e-01, -3.35588533e-01, ...,\n",
       "        -8.98381379e-01, -6.34357580e-04, -4.37358211e-02],\n",
       "       [-1.06433917e+00,  2.12501638e+00,  3.05234239e+00, ...,\n",
       "         3.86340190e-01, -1.48467347e-01, -5.69036842e-01],\n",
       "       [-5.01145154e-01,  7.40255346e-01, -5.11839275e-01, ...,\n",
       "        -4.18045489e-01,  6.86860180e-01, -8.96531475e-01]],\n",
       "      shape=(1760, 7))"
      ]
     },
     "execution_count": 40,
     "metadata": {},
     "output_type": "execute_result"
    }
   ],
   "source": [
    "X_train"
   ]
  },
  {
   "cell_type": "code",
   "execution_count": 43,
   "id": "32399325-f0bb-46d0-9c74-1a5872c8b2b2",
   "metadata": {},
   "outputs": [
    {
     "name": "stdout",
     "output_type": "stream",
     "text": [
      "Logistic Regression  with accuracy : 0.9636363636363636\n",
      "Naive Bayes  with accuracy : 0.9954545454545455\n",
      "Support Vector Machine  with accuracy : 0.9681818181818181\n",
      "K-Nearest Neighbors  with accuracy : 0.9590909090909091\n",
      "Decision Tree  with accuracy : 0.9840909090909091\n",
      "Random Forest  with accuracy : 0.9931818181818182\n",
      "Bagging  with accuracy : 0.9863636363636363\n"
     ]
    },
    {
     "name": "stderr",
     "output_type": "stream",
     "text": [
      "C:\\Users\\goura\\AppData\\Local\\Programs\\Python\\Python311\\Lib\\site-packages\\sklearn\\ensemble\\_weight_boosting.py:519: FutureWarning: The parameter 'algorithm' is deprecated in 1.6 and has no effect. It will be removed in version 1.8.\n",
      "  warnings.warn(\n"
     ]
    },
    {
     "name": "stdout",
     "output_type": "stream",
     "text": [
      "AdaBoost  with accuracy : 0.14545454545454545\n",
      "Gradient Boosting  with accuracy : 0.9818181818181818\n",
      "Extra Trees  with accuracy : 0.9090909090909091\n"
     ]
    }
   ],
   "source": [
    "from sklearn.linear_model import LogisticRegression\n",
    "from sklearn.naive_bayes import GaussianNB\n",
    "from sklearn.svm import SVC\n",
    "from sklearn.neighbors import KNeighborsClassifier\n",
    "from sklearn.tree import DecisionTreeClassifier\n",
    "from sklearn.tree import ExtraTreeClassifier\n",
    "from sklearn.ensemble import RandomForestClassifier\n",
    "from sklearn.ensemble import BaggingClassifier\n",
    "from sklearn.ensemble import GradientBoostingClassifier\n",
    "from sklearn.ensemble import AdaBoostClassifier\n",
    "from sklearn.metrics import accuracy_score,confusion_matrix\n",
    "\n",
    "# create instances of all models\n",
    "models = {\n",
    "    'Logistic Regression': LogisticRegression(),\n",
    "    'Naive Bayes': GaussianNB(),\n",
    "    'Support Vector Machine': SVC(),\n",
    "    'K-Nearest Neighbors': KNeighborsClassifier(),\n",
    "    'Decision Tree': DecisionTreeClassifier(),\n",
    "    'Random Forest': RandomForestClassifier(),\n",
    "    'Bagging': BaggingClassifier(),\n",
    "    'AdaBoost':  AdaBoostClassifier(algorithm='SAMME'),\n",
    "    'Gradient Boosting': GradientBoostingClassifier(),\n",
    "    'Extra Trees': ExtraTreeClassifier(),\n",
    "}\n",
    "\n",
    "\n",
    "for name, model in models.items():\n",
    "    model.fit(X_train,y_train)\n",
    "    ypred = model.predict(X_test)\n",
    "    \n",
    "    print(f\"{name}  with accuracy : {accuracy_score(y_test,ypred)}\")\n",
    "    #print(\"Confusion matrix : \",confusion_matrix(y_test,ypred))\n",
    "    #print(\"==========================================================\")\n",
    "    "
   ]
  },
  {
   "cell_type": "code",
   "execution_count": 44,
   "id": "bbfc26d2-2f75-4851-8135-34d825a56167",
   "metadata": {},
   "outputs": [
    {
     "data": {
      "text/plain": [
       "0.990909090909091"
      ]
     },
     "execution_count": 44,
     "metadata": {},
     "output_type": "execute_result"
    }
   ],
   "source": [
    "# finally selected randomforest model\n",
    "\n",
    "rfc = RandomForestClassifier()\n",
    "rfc.fit(X_train,y_train)\n",
    "ypred = rfc.predict(X_test)\n",
    "accuracy_score(y_test,ypred)"
   ]
  },
  {
   "cell_type": "code",
   "execution_count": 47,
   "id": "aee020e4-f3ed-496c-85af-3d01f9a07c1c",
   "metadata": {},
   "outputs": [],
   "source": [
    "def recommendation(N,P,k,temperature,humidity,ph,rainfall):\n",
    "    features = np.array([[N,P,k,temperature,humidity,ph,rainfall]])\n",
    "    transformed_features = ms.fit_transform(features)\n",
    "    prediction = rfc.predict(transformed_features)\n",
    "    return prediction[0] "
   ]
  },
  {
   "cell_type": "code",
   "execution_count": 49,
   "id": "1a5ba613-c1e2-4b0e-a604-7ea0ee0573bc",
   "metadata": {},
   "outputs": [
    {
     "name": "stdout",
     "output_type": "stream",
     "text": [
      "Papaya is a best crop to be cultivated \n"
     ]
    }
   ],
   "source": [
    "# new inputs\n",
    "\n",
    "\n",
    "N = 40\n",
    "P = 50\n",
    "k = 50\n",
    "temperature = 40.0\n",
    "humidity = 20\n",
    "ph = 100\n",
    "rainfall = 100\n",
    "\n",
    "predict = recommendation(N,P,k,temperature,humidity,ph,rainfall)\n",
    "\n",
    "crop_dict = {1: \"Rice\", 2: \"Maize\", 3: \"Jute\", 4: \"Cotton\", 5: \"Coconut\", 6: \"Papaya\", 7: \"Orange\",\n",
    "                 8: \"Apple\", 9: \"Muskmelon\", 10: \"Watermelon\", 11: \"Grapes\", 12: \"Mango\", 13: \"Banana\",\n",
    "                 14: \"Pomegranate\", 15: \"Lentil\", 16: \"Blackgram\", 17: \"Mungbean\", 18: \"Mothbeans\",\n",
    "                 19: \"Pigeonpeas\", 20: \"Kidneybeans\", 21: \"Chickpea\", 22: \"Coffee\"}\n",
    "\n",
    "if predict in crop_dict:\n",
    "    crop = crop_dict[predict]\n",
    "    print(\"{} is a best crop to be cultivated \".format(crop))\n",
    "else:\n",
    "    print(\"Sorry are not able to recommend a proper crop for this environment\")"
   ]
  },
  {
   "cell_type": "code",
   "execution_count": 50,
   "id": "e598b28b-a943-45a3-a97e-9f8f8ac0bff2",
   "metadata": {},
   "outputs": [],
   "source": [
    "import pickle\n",
    "pickle.dump(rfc,open('model.pkl','wb'))\n",
    "pickle.dump(ms,open('minmaxscaler.pkl','wb'))"
   ]
  },
  {
   "cell_type": "code",
   "execution_count": null,
   "id": "0070b9a1-af67-47c3-acf1-a37690de5eb1",
   "metadata": {},
   "outputs": [],
   "source": []
  }
 ],
 "metadata": {
  "kernelspec": {
   "display_name": "Python 3 (ipykernel)",
   "language": "python",
   "name": "python3"
  },
  "language_info": {
   "codemirror_mode": {
    "name": "ipython",
    "version": 3
   },
   "file_extension": ".py",
   "mimetype": "text/x-python",
   "name": "python",
   "nbconvert_exporter": "python",
   "pygments_lexer": "ipython3",
   "version": "3.11.5"
  }
 },
 "nbformat": 4,
 "nbformat_minor": 5
}
